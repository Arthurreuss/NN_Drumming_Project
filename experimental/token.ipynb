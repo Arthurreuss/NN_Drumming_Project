{
 "cells": [
  {
   "cell_type": "code",
   "execution_count": null,
   "id": "70c52f5d",
   "metadata": {},
   "outputs": [
    {
     "ename": "",
     "evalue": "",
     "output_type": "error",
     "traceback": [
      "\u001b[1;31mRunning cells with '.venv (3.13.3) (Python 3.13.3)' requires the ipykernel package.\n",
      "\u001b[1;31mInstall 'ipykernel' into the Python environment. \n",
      "\u001b[1;31mCommand: '\"/Users/robsligter/Documents/Rug/Year 3/NN/NN_Drumming_Project/.venv/bin/python\" -m pip install ipykernel -U --force-reinstall'"
     ]
    }
   ],
   "source": [
    "import os\n",
    "import sys\n",
    "project_root = os.path.abspath(os.path.dirname(os.curdir))\n",
    "project_root = os.path.dirname(project_root)\n",
    "\n",
    "sys.path.append(project_root)\n",
    "\n",
    "from ml.data.dataset import DrumDataset\n",
    "\n",
    "data_dir = \"dataset/processed\"\n",
    "data_dir = os.path.join(project_root, data_dir)\n",
    "config_path = \"config.yaml\"\n",
    "config_path = os.path.join(project_root, config_path)\n",
    "\n",
    "dataset = DrumDataset(data_dir, config_path, include_genre=True)\n",
    "item = dataset[0]\n",
    "print(\"Item shape:\", item[0].shape, item[1].shape)  #\n",
    "print(len(dataset))"
   ]
  }
 ],
 "metadata": {
  "kernelspec": {
   "display_name": ".venv (3.13.3)",
   "language": "python",
   "name": "python3"
  },
  "language_info": {
   "name": "python",
   "version": "3.13.3"
  }
 },
 "nbformat": 4,
 "nbformat_minor": 5
}
