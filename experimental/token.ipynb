{
 "cells": [
  {
   "cell_type": "code",
   "execution_count": 4,
   "id": "70c52f5d",
   "metadata": {},
   "outputs": [
    {
     "name": "stdout",
     "output_type": "stream",
     "text": [
      "Item shape: torch.Size([63, 20]) torch.Size([63, 20])\n",
      "4400\n"
     ]
    }
   ],
   "source": [
    "import os\n",
    "import sys\n",
    "project_root = os.path.abspath(os.path.dirname(os.curdir))\n",
    "project_root = os.path.dirname(project_root)\n",
    "\n",
    "sys.path.append(project_root)\n",
    "\n",
    "from ml.data.dataset import DrumDataset\n",
    "\n",
    "data_dir = \"dataset/processed/q_16/seg_64/test/\"\n",
    "data_dir = os.path.join(project_root, data_dir)\n",
    "config_path = \"config.yaml\"\n",
    "config_path = os.path.join(project_root, config_path)\n",
    "\n",
    "dataset = DrumDataset(data_dir, config_path, include_genre=True)\n",
    "item = dataset[0]\n",
    "print(\"Item shape:\", item[0].shape, item[1].shape)  #\n",
    "print(len(dataset))"
   ]
  }
 ],
 "metadata": {
  "kernelspec": {
   "display_name": ".venv (3.13.3)",
   "language": "python",
   "name": "python3"
  },
  "language_info": {
   "codemirror_mode": {
    "name": "ipython",
    "version": 3
   },
   "file_extension": ".py",
   "mimetype": "text/x-python",
   "name": "python",
   "nbconvert_exporter": "python",
   "pygments_lexer": "ipython3",
   "version": "3.13.3"
  }
 },
 "nbformat": 4,
 "nbformat_minor": 5
}
